{
 "cells": [
  {
   "cell_type": "markdown",
   "metadata": {
    "id": "MkoDbq-9W6Fd"
   },
   "source": [
    "# Vectors using Numpy"
   ]
  },
  {
   "cell_type": "markdown",
   "metadata": {
    "id": "ExU43HLnXBiU"
   },
   "source": [
    "#### **What is Numpy?**\n",
    "NumPy is the fundamental package for scientific computing in Python. It is a Python library that provides a multidimensional array object, various derived objects (such as masked arrays and matrices), and an assortment of routines for fast operations on arrays, including mathematical, logical, shape manipulation, sorting, selecting, I/O, discrete Fourier transforms, basic linear algebra, basic statistical operations, random simulation and much more.\n",
    "\n",
    "There are several important differences between NumPy arrays and the standard Python sequences(lists):\n",
    "\n",
    "*   NumPy arrays have a fixed size at creation, unlike Python lists (which can grow dynamically). Changing the size of an ndarray will create a new array and delete the original.\n",
    "*   The elements in a NumPy array are all required to be of the same data type, and thus will be the same size in memory. The exception: one can have arrays of (Python, including NumPy) objects, thereby allowing for arrays of different sized elements.\n",
    "*    NumPy arrays facilitate advanced mathematical and other types of operations on large numbers of data. Typically, such operations are executed more efficiently and with less code than is possible using Python’s built-in sequences.\n",
    "*    A growing plethora of scientific and mathematical Python-based packages are using NumPy arrays; though these typically support Python-sequence input, they convert such input to NumPy arrays prior to processing, and they often output NumPy arrays. Numpy is preferred due to its performance in computation.\n",
    "\n"
   ]
  },
  {
   "cell_type": "code",
   "execution_count": 1,
   "metadata": {
    "id": "3jwUcdXDXqKQ"
   },
   "outputs": [],
   "source": [
    "# Lets Import Numpy\n",
    "import numpy as np"
   ]
  },
  {
   "cell_type": "code",
   "execution_count": 8,
   "metadata": {
    "id": "qnb4q6weYHJs"
   },
   "outputs": [
    {
     "name": "stdout",
     "output_type": "stream",
     "text": [
      "20\n",
      "[[ 0  1  2  3  4]\n",
      " [ 5  6  7  8  9]\n",
      " [10 11 12 13 14]\n",
      " [15 16 17 18 19]]\n",
      "[]\n"
     ]
    }
   ],
   "source": [
    "# TASK: Define Numpy arrays with names: n1, n2\n",
    "# Reference: https://numpy.org/doc/stable/user/quickstart.html#array-creation\n",
    "\n",
    "# Your Code:\n",
    "n1=np.arange(20).reshape(4,5)\n",
    "n2=np.array([])\n",
    "\n",
    "print(n1.size)\n",
    "\n",
    "print(n1)\n",
    "print(n2)"
   ]
  },
  {
   "cell_type": "code",
   "execution_count": 28,
   "metadata": {
    "id": "X9QwNVT2Yd8I"
   },
   "outputs": [
    {
     "name": "stdout",
     "output_type": "stream",
     "text": [
      "int64\n",
      "[22 33 44]\n"
     ]
    }
   ],
   "source": [
    "# TASK: Redefine n1 as a vector/array with the values 22,33,44 and order of the vector as 1x3\n",
    "\n",
    "# Your Code:\n",
    "n1=np.array([22,33,44])\n",
    "\n",
    "\n",
    "print(n1.dtype)\n",
    "print(n1)"
   ]
  },
  {
   "cell_type": "markdown",
   "metadata": {
    "id": "3dHQ9ItHaQjk"
   },
   "source": [
    "#### Addition\n",
    "\n",
    "Adding numpy vectors is as simple as performing regular addition in Python."
   ]
  },
  {
   "cell_type": "code",
   "execution_count": 93,
   "metadata": {
    "id": "WKU9pUMpY2t5"
   },
   "outputs": [
    {
     "name": "stdout",
     "output_type": "stream",
     "text": [
      "[24 35 46]\n"
     ]
    }
   ],
   "source": [
    "# TASK: Add vector [2, 2, 2] with n1 from earlier\n",
    "\n",
    "# Your Code:\n",
    "add=n1+np.array([2,2,2])\n",
    "print(add)\n",
    "\n",
    "\n",
    "# Expected output: [24, 35, 46]"
   ]
  },
  {
   "cell_type": "markdown",
   "metadata": {
    "id": "qGmma2jfbEzr"
   },
   "source": [
    "#### Subtraction\n",
    "\n",
    "Subtracting numpy vectors is also as simple as performing regular subtraction in Python"
   ]
  },
  {
   "cell_type": "code",
   "execution_count": 94,
   "metadata": {
    "id": "_Pmm06fpZEka"
   },
   "outputs": [
    {
     "name": "stdout",
     "output_type": "stream",
     "text": [
      "[20 30 40]\n"
     ]
    }
   ],
   "source": [
    "# TASK: Subtract vector [2, 3, 4] with n1 from earlier\n",
    "\n",
    "# Your Code:\n",
    "sub=n1-np.array([2, 3, 4])\n",
    "\n",
    "print(sub)\n",
    "\n",
    "# Expected output: [20, 30, 40]"
   ]
  },
  {
   "cell_type": "markdown",
   "metadata": {
    "id": "YKJ31IVsbcYv"
   },
   "source": [
    "#### Scalar Multiplication/ Element-wise multiplication\n",
    "\n",
    "This is also very easy to perform. Regular Python is enough or numpy also comes with functions to perform the same\n",
    "\n",
    "https://numpy.org/doc/stable/reference/generated/numpy.multiply.html#numpy-multiply\n"
   ]
  },
  {
   "cell_type": "code",
   "execution_count": 31,
   "metadata": {
    "id": "jVcu1QS8bZHu"
   },
   "outputs": [
    {
     "name": "stdout",
     "output_type": "stream",
     "text": [
      "[ 550  825 1100]\n"
     ]
    }
   ],
   "source": [
    "# TASK: Multiply n1 with 25\n",
    "\n",
    "# Your Code:\n",
    "mul_scaler=n1*25\n",
    "\n",
    "print(mul_scaler)\n",
    "\n",
    "# Expected output: [550,  825, 1100]"
   ]
  },
  {
   "cell_type": "code",
   "execution_count": 95,
   "metadata": {
    "id": "1-UuqETKbT-I"
   },
   "outputs": [
    {
     "name": "stdout",
     "output_type": "stream",
     "text": [
      "[242 396 572]\n"
     ]
    }
   ],
   "source": [
    "# TASK: perform element-wise multiplication of n1 and [11, 12, 13]. Use numpy's multiply function\n",
    "\n",
    "# Your Code:\n",
    "mul_a=np.multiply(n1,np.array([11, 12, 13]))\n",
    "\n",
    "print(mul_a)\n",
    "\n",
    "# Expected output: [242, 396, 572]"
   ]
  },
  {
   "cell_type": "markdown",
   "metadata": {
    "id": "jU9xLGMerO9c"
   },
   "source": [
    "#### Vector Multiplication\n",
    "\n",
    "Vector multiplication, or also called dot product of vectors/matrices. Numpy has functions to perform the same\n",
    "\n",
    "https://numpy.org/doc/stable/reference/generated/numpy.dot.html#numpy-dot\n",
    "https://numpy.org/doc/stable/reference/generated/numpy.reshape.html#numpy-reshape\n",
    "\n",
    "note: numpy functions also carry additional features for certain scenarios of inputs. The reference mentions all of them, we will be looking only at our required case here."
   ]
  },
  {
   "cell_type": "code",
   "execution_count": 99,
   "metadata": {
    "id": "7qptpnxFcM4e"
   },
   "outputs": [
    {
     "name": "stdout",
     "output_type": "stream",
     "text": [
      "[[ 66  66  66  66]\n",
      " [ 99  99  99  99]\n",
      " [132 132 132 132]]\n",
      "[[ 66  66  66  66]\n",
      " [ 99  99  99  99]\n",
      " [132 132 132 132]]\n"
     ]
    }
   ],
   "source": [
    "# TASK: perform vector multiplication of n1 (use numpy reshape:- set order as 3 x 1) and a vector of only 3's, and of order/dimension 1 x 4\n",
    "\n",
    "# Your Code:\n",
    "\n",
    "new_n1=np.reshape(n1,(3,1))*3\n",
    "new=np.repeat(new_n1,4,axis=1)\n",
    "\n",
    "new2= np.dot(n1.reshape(3,1),np.array([[3,3,3,3]]))\n",
    "print(new)\n",
    "print(new2)\n",
    "# Expected Output:\n",
    "# [[ 66,  66,  66,  66],\n",
    "#  [ 99,  99,  99,  99],\n",
    "#  [132, 132, 132, 132]]"
   ]
  },
  {
   "cell_type": "code",
   "execution_count": 100,
   "metadata": {
    "id": "lpnppkLqs4Oq"
   },
   "outputs": [
    {
     "name": "stdout",
     "output_type": "stream",
     "text": [
      "3509\n",
      "3509\n"
     ]
    }
   ],
   "source": [
    "# TASK: perform vector multiplication of n1 and transpose of n1. Use numpy techniques for transpose\n",
    "\n",
    "# Your Code:\n",
    "\n",
    "n1_t=np.transpose(n1) #does really nothing on 1d array\n",
    "mul_to_transpose=np.multiply(n1,n1_t)\n",
    "total = np.sum(mul_to_transpose)\n",
    "print(total)\n",
    "\n",
    "n2_t=np.dot(n1,n1.T)\n",
    "print(n2_t)\n",
    "\n",
    "# Expected output: 3059"
   ]
  },
  {
   "cell_type": "code",
   "execution_count": 101,
   "metadata": {
    "id": "gkjYZygrs-Va"
   },
   "outputs": [
    {
     "name": "stdout",
     "output_type": "stream",
     "text": [
      "[[ 1. -0.  0.]\n",
      " [-0.  1.  0.]\n",
      " [ 0.  0.  1.]]\n"
     ]
    }
   ],
   "source": [
    "# TASK: Initialize a vector (v1) with prime numbers 1 to 23, with order 3x3. Initialize a vector (v2) as inverse of v1.\n",
    "# Perform vector multiplication of both and get identityu matrix. Use numpy rounding methods if needed\n",
    "# https://numpy.org/doc/stable/reference/generated/numpy.linalg.inv.html#numpy-linalg-inv\n",
    "# https://numpy.org/doc/stable/reference/generated/numpy.round.html#numpy-round\n",
    "\n",
    "# Your Code:\n",
    "\n",
    "import math\n",
    "\n",
    "def prime(upto=23):\n",
    "    primes=np.arange(3,upto+1,2)\n",
    "    isprime=np.ones((upto-1)//2,dtype=bool)\n",
    "    for factor in primes[:int(math.sqrt(upto))//2]:\n",
    "        if isprime[(factor-2)//2]: isprime[(factor*3-2)//2::factor]=0\n",
    "    return np.insert(primes[isprime],0,2)\n",
    "\n",
    "\n",
    "v1=np.reshape(prime(),(3,3))\n",
    "v2=np.linalg.inv(v1)\n",
    "\n",
    "mul_mat=np.round(np.matmul(v1,v2))\n",
    "# mul_mat=np.round(np.dot(v1,v2))\n",
    "\n",
    "print(mul_mat)\n",
    "# Expected output (with or without signs both is ok):\n",
    "# [[ 1., -0.,  0.],\n",
    "#  [ 0.,  1.,  0.],\n",
    "#  [-0., -0.,  1.]]"
   ]
  },
  {
   "cell_type": "markdown",
   "metadata": {
    "id": "393LNCAH3Jqd"
   },
   "source": [
    "#### Go Through Documentation\n",
    "\n",
    "https://numpy.org/doc/stable/user/quickstart.html#the-basics"
   ]
  },
  {
   "cell_type": "code",
   "execution_count": 92,
   "metadata": {
    "id": "hasQQa25tMt3"
   },
   "outputs": [
    {
     "name": "stdout",
     "output_type": "stream",
     "text": [
      "A. sqrt of v1: \n",
      " [[1.41 1.73 2.24]\n",
      " [2.65 3.32 3.61]\n",
      " [4.12 4.36 4.8 ]]\n",
      "\n",
      "B. exp of v1: \n",
      " [[7.39000000e+00 2.00900000e+01 1.48410000e+02]\n",
      " [1.09663000e+03 5.98741400e+04 4.42413390e+05]\n",
      " [2.41549528e+07 1.78482301e+08 9.74480345e+09]]\n",
      "\n",
      "C. log of v1: \n",
      " [[0.69 1.1  1.61]\n",
      " [1.95 2.4  2.56]\n",
      " [2.83 2.94 3.14]]\n"
     ]
    }
   ],
   "source": [
    "# TASK: Study and perform 3 different universal functions on v1\n",
    "np.set_printoptions(suppress=True)\n",
    "\n",
    "print(\"A. sqrt of v1: \\n\",np.round(np.sqrt(v1),2))\n",
    "print()\n",
    "print(\"B. exp of v1: \\n\",np.round(np.exp(v1),2))\n",
    "print()\n",
    "print(\"C. log of v1: \\n\",np.round(np.log(v1),2))\n",
    "\n",
    "\n",
    "\n",
    "\n"
   ]
  },
  {
   "cell_type": "code",
   "execution_count": null,
   "metadata": {},
   "outputs": [],
   "source": []
  }
 ],
 "metadata": {
  "colab": {
   "provenance": []
  },
  "kernelspec": {
   "display_name": "Python [conda env:anaconda3]",
   "language": "python",
   "name": "conda-env-anaconda3-py"
  },
  "language_info": {
   "codemirror_mode": {
    "name": "ipython",
    "version": 3
   },
   "file_extension": ".py",
   "mimetype": "text/x-python",
   "name": "python",
   "nbconvert_exporter": "python",
   "pygments_lexer": "ipython3",
   "version": "3.13.5"
  }
 },
 "nbformat": 4,
 "nbformat_minor": 4
}
