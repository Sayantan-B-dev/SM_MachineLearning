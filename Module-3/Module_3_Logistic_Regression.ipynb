{
  "cells": [
    {
      "cell_type": "markdown",
      "metadata": {
        "pycharm": {
          "name": "#%% md\n"
        },
        "id": "0j1hUL8pBP-a"
      },
      "source": [
        "# Module 3: Logistic Regression\n",
        "\n",
        "In this assignment, you will\n",
        "- explore the sigmoid function (also known as the logistic function)\n",
        "- explore logistic regression; which uses the sigmoid function"
      ],
      "id": "0j1hUL8pBP-a"
    },
    {
      "cell_type": "code",
      "execution_count": null,
      "metadata": {
        "pycharm": {
          "name": "#%%\n"
        },
        "id": "k8pK7vJVBP-8"
      },
      "outputs": [],
      "source": [
        "import numpy as np\n",
        "import matplotlib.pyplot as plt\n",
        "from utils import plot_data\n"
      ],
      "id": "k8pK7vJVBP-8"
    },
    {
      "cell_type": "markdown",
      "metadata": {
        "pycharm": {
          "name": "#%% md\n"
        },
        "id": "jZNwkSRqBP_K"
      },
      "source": [
        "## Sigmoid or Logistic Function\n",
        "As discussed in the lecture videos, for a classification task, we can start by using our linear regression model, $h(\\mathbf{x}^{(i)}) = \\mathbf{w} \\cdot  \\mathbf{x}^{(i)} + b$, to predict $y$ given $x$.\n",
        "- However, we would like the predictions of our classification model to be between 0 and 1 since our output variable $y$ is either 0 or 1.\n",
        "- This can be accomplished by using a \"sigmoid function\" which maps all input values to values between 0 and 1.\n",
        "\n",
        "\n",
        "Let's implement the sigmoid function and see this for ourselves.\n",
        "\n",
        "## Formula for Sigmoid function\n",
        "\n",
        "The formula for a sigmoid function is as follows -  \n",
        "\n",
        "$g(z) = \\frac{1}{1+e^{-z}}\\tag{1}$\n",
        "\n",
        "In the case of logistic regression, z (the input to the sigmoid function), is the output of a linear regression model.\n",
        "- In the case of a single example, $z$ is scalar.\n",
        "- in the case of multiple examples, $z$ may be a vector consisting of $m$ values, one for each example.\n",
        "- The implementation of the sigmoid function should cover both of these potential input formats.\n",
        "Let's implement this in Python."
      ],
      "id": "jZNwkSRqBP_K"
    },
    {
      "cell_type": "markdown",
      "metadata": {
        "pycharm": {
          "name": "#%% md\n"
        },
        "id": "89BAEbVaBP_N"
      },
      "source": [
        "NumPy has a function called [`exp()`](https://numpy.org/doc/stable/reference/generated/numpy.exp.html), which offers a convenient way to calculate the exponential ( $e^{z}$) of all elements in the input array (`z`).\n",
        "\n",
        "It also works with a single number as an input, as shown below."
      ],
      "id": "89BAEbVaBP_N"
    },
    {
      "cell_type": "code",
      "execution_count": null,
      "metadata": {
        "pycharm": {
          "name": "#%%\n"
        },
        "id": "evHOcwpiBP_Q"
      },
      "outputs": [],
      "source": [
        "# Input is an array.\n",
        "input_array = np.array([1,2,3])\n",
        "exp_array = np.exp(input_array)\n",
        "\n",
        "print(\"Input to exp:\", input_array)\n",
        "print(\"Output of exp:\", exp_array)\n",
        "\n",
        "# Input is a single number\n",
        "input_val = 1\n",
        "exp_val = np.exp(input_val)\n",
        "\n",
        "print(\"Input to exp:\", input_val)\n",
        "print(\"Output of exp:\", exp_val)"
      ],
      "id": "evHOcwpiBP_Q"
    },
    {
      "cell_type": "markdown",
      "metadata": {
        "pycharm": {
          "name": "#%% md\n"
        },
        "id": "LRyoptqwBP_d"
      },
      "source": [
        "The `sigmoid` function is implemented in python as shown in the cell below."
      ],
      "id": "LRyoptqwBP_d"
    },
    {
      "cell_type": "code",
      "execution_count": null,
      "metadata": {
        "pycharm": {
          "name": "#%%\n"
        },
        "id": "y6pA2Ez5BP_h"
      },
      "outputs": [],
      "source": [
        "def sigmoid(z):\n",
        "    \"\"\"\n",
        "    Compute the sigmoid of z\n",
        "\n",
        "    Args:\n",
        "        z (ndarray): A scalar, numpy array of any size.\n",
        "\n",
        "    Returns:\n",
        "        g (ndarray): sigmoid(z), with the same shape as z\n",
        "\n",
        "    \"\"\"\n",
        "    #####################################\n",
        "    # WRITE THE SIGMOID FUNCTION HERE\n",
        "    g =\n",
        "\n",
        "    #####################################\n",
        "\n",
        "    return g"
      ],
      "id": "y6pA2Ez5BP_h"
    },
    {
      "cell_type": "markdown",
      "metadata": {
        "pycharm": {
          "name": "#%% md\n"
        },
        "id": "aQO9F4NbBP_k"
      },
      "source": [
        "Let's see what the output of this function is for various value of `z`"
      ],
      "id": "aQO9F4NbBP_k"
    },
    {
      "cell_type": "code",
      "execution_count": null,
      "metadata": {
        "pycharm": {
          "name": "#%%\n"
        },
        "id": "_l-eERw7BP_q"
      },
      "outputs": [],
      "source": [
        "# Generate an array of evenly spaced values between -10 and 10\n",
        "z_tmp = np.arange(-10,11)\n",
        "\n",
        "# Use the function implemented above to get the sigmoid values\n",
        "y = sigmoid(z_tmp)\n",
        "\n",
        "# Code for pretty printing the two arrays next to each other\n",
        "np.set_printoptions(precision=3)\n",
        "print(\"Input (z), Output (sigmoid(z))\")\n",
        "print(np.c_[z_tmp, y])"
      ],
      "id": "_l-eERw7BP_q"
    },
    {
      "cell_type": "markdown",
      "metadata": {
        "pycharm": {
          "name": "#%% md\n"
        },
        "id": "9QeXSNkmBP_v"
      },
      "source": [
        "The values in the left column are `z`, and the values in the right column are `sigmoid(z)`. As you can see, the input values to the sigmoid range from -10 to 10, and the output values range from 0 to 1.\n",
        "\n",
        "Now, let's try to plot this function using the `matplotlib` library."
      ],
      "id": "9QeXSNkmBP_v"
    },
    {
      "cell_type": "code",
      "execution_count": null,
      "metadata": {
        "pycharm": {
          "name": "#%%\n"
        },
        "id": "JoeMzv7iBP_6"
      },
      "outputs": [],
      "source": [
        "# Plot z vs sigmoid(z)\n",
        "fig,ax = plt.subplots(1,1,figsize=(5,3))\n",
        "ax.plot(z_tmp, y, c=\"b\")\n",
        "\n",
        "ax.set_title(\"Sigmoid function\")\n",
        "ax.set_ylabel('sigmoid(z)')\n",
        "ax.set_xlabel('z')"
      ],
      "id": "JoeMzv7iBP_6"
    },
    {
      "cell_type": "markdown",
      "metadata": {
        "pycharm": {
          "name": "#%% md\n"
        },
        "id": "mKF23OczBP_8"
      },
      "source": [
        "As you can see, the sigmoid function approaches  `0` as `z` goes to large negative values and approaches `1` as `z` goes to large positive values.\n"
      ],
      "id": "mKF23OczBP_8"
    },
    {
      "cell_type": "markdown",
      "metadata": {
        "pycharm": {
          "name": "#%% md\n"
        },
        "id": "kemeI55NBQAA"
      },
      "source": [
        "## Decision Boundary\n",
        " Lets the decision boundary for a logistic regression model. This will give you a better sense of what the model is predicting.\n",
        "\n"
      ],
      "id": "kemeI55NBQAA"
    },
    {
      "cell_type": "markdown",
      "source": [
        "Let's suppose you have following training dataset\n",
        "\n",
        "*   The input variable X is a numpy array which has 6 training examples, each with two features\n",
        "*   The output variable y is also a numpy array with 6 examples, and y is either 0 or 1"
      ],
      "metadata": {
        "id": "tz6Bc6eQeBOh"
      },
      "id": "tz6Bc6eQeBOh"
    },
    {
      "cell_type": "code",
      "execution_count": null,
      "metadata": {
        "tags": [],
        "pycharm": {
          "name": "#%%\n"
        },
        "id": "iL7MKGEaBQAE"
      },
      "outputs": [],
      "source": [
        "X = np.array([[0.5, 1.5], [1,1], [1.5, 0.5], [3, 0.5], [2, 2], [1, 2.5]])\n",
        "y = np.array([0, 0, 0, 1, 1, 1]).reshape(-1,1)"
      ],
      "id": "iL7MKGEaBQAE"
    },
    {
      "cell_type": "markdown",
      "metadata": {
        "pycharm": {
          "name": "#%% md\n"
        },
        "id": "c49XOvWQBQAE"
      },
      "source": [
        "### Logistic regression model\n",
        "\n",
        "\n",
        "* Suppose you'd like to train a logistic regression model on this data which has the form   \n",
        "\n",
        "  $h(x) = g(w_0x_0+w_1x_1 + b)$\n",
        "  \n",
        "  where $g(z) = \\frac{1}{1+e^{-z}}$, which is the sigmoid function\n",
        "\n",
        "\n",
        "* Let's say that you trained the model and get the parameters as $b = -3, w_0 = 1, w_1 = 1$. That is,\n",
        "\n",
        "  $h(x) = g(x_0+x_1-3)$\n",
        "\n",
        "  (You'll learn how to train/fit and get these parameters in the further sections)\n",
        "  \n",
        "  \n",
        "Let's try to understand what this trained model is predicting by plotting its decision boundary"
      ],
      "id": "c49XOvWQBQAE"
    },
    {
      "cell_type": "markdown",
      "source": [
        "* Recall that for logistic regression, the model is represented as\n",
        "\n",
        "  $$h(\\mathbf{x}^{(i)}) = g(\\mathbf{w} \\cdot \\mathbf{x}^{(i)} + b) \\tag{1}$$\n",
        "\n",
        "  where $g(z)$ is known as the sigmoid function and it maps all input values to values between 0 and 1:\n",
        "\n",
        "  $g(z) = \\frac{1}{1+e^{-z}}\\tag{2}$\n",
        "  and $\\mathbf{w} \\cdot \\mathbf{x}$ is the vector dot product:\n",
        "  \n",
        "  $$\\mathbf{w} \\cdot \\mathbf{x} = w_0 x_0 + w_1 x_1$$\n",
        "  \n",
        "  \n",
        " * We interpret the output of the model ($h(x)$) as the probability that $y=1$ given $\\mathbf{x}$ and parameterized by $\\mathbf{w}$ and $b$.\n",
        "* Therefore, to get a final prediction ($y=0$ or $y=1$) from the logistic regression model, we can use the following heuristic -\n",
        "\n",
        "  if $h(x) >= 0.5$, predict $y=1$\n",
        "  \n",
        "  if $h(x) < 0.5$, predict $y=0$\n",
        "  \n",
        "  \n",
        "* Let's plot the sigmoid function to see where $g(z) >= 0.5$"
      ],
      "metadata": {
        "id": "50PnLNCBoOGl"
      },
      "id": "50PnLNCBoOGl"
    },
    {
      "cell_type": "markdown",
      "source": [
        "## Plotting decision boundary\n",
        "\n",
        "Now, let's go back to our example to understand how the logistic regression model is making predictions.\n",
        "\n",
        "* Our logistic regression model has the form\n",
        "\n",
        "  $h(\\mathbf{x}) = g(-3 + x_0+x_1)$\n",
        "\n",
        "\n",
        "* From what you've learnt above, you can see that this model predicts $y=1$ if $-3 + x_0+x_1 >= 0$\n",
        "\n",
        "Let's see what this looks like graphically. We'll start by plotting $-3 + x_0+x_1 = 0$, which is equivalent to $x_1 = 3 - x_0$."
      ],
      "metadata": {
        "id": "4XJnhFrjoepr"
      },
      "id": "4XJnhFrjoepr"
    },
    {
      "cell_type": "code",
      "source": [
        "# Choose values between 0 and 6\n",
        "x0 = np.arange(0,6)\n",
        "\n",
        "x1 = 3 - x0\n",
        "fig,ax = plt.subplots(1,1,figsize=(5,4))\n",
        "# Plot the decision boundary\n",
        "ax.plot(x0,x1, c=\"b\")\n",
        "ax.axis([0, 4, 0, 3.5])\n",
        "\n",
        "# Fill the region below the line\n",
        "ax.fill_between(x0,x1, alpha=0.2)\n",
        "\n",
        "# Plot the original data\n",
        "\n",
        "plot_data(X,y,ax)\n",
        "ax.set_ylabel(r'$x_1$')\n",
        "ax.set_xlabel(r'$x_0$')\n",
        "plt.show()"
      ],
      "metadata": {
        "id": "SIVeGSizoNze"
      },
      "id": "SIVeGSizoNze",
      "execution_count": null,
      "outputs": []
    },
    {
      "cell_type": "markdown",
      "source": [
        "## Train a logistic regression model using scikit-learn\n",
        "\n",
        "https://scikit-learn.org/0.16/modules/generated/sklearn.linear_model.LogisticRegression.html\n",
        "\n",
        "\n",
        "- Create a Regression Object\n",
        "- Call fit function\n",
        "- Get predictions\n",
        "- Get Score of model\n",
        "- Get coefficients (w0, w1) and intercept(b)"
      ],
      "metadata": {
        "id": "5wm5lA5eqbId"
      },
      "id": "5wm5lA5eqbId"
    },
    {
      "cell_type": "code",
      "source": [
        "from sklearn.linear_model import LogisticRegression\n",
        "\n"
      ],
      "metadata": {
        "id": "4mlAppyUY4PJ"
      },
      "id": "4mlAppyUY4PJ",
      "execution_count": null,
      "outputs": []
    },
    {
      "cell_type": "code",
      "source": [
        "###########################################################################\n",
        "# YOUR CODE HERE"
      ],
      "metadata": {
        "id": "vo80wSrqqn5J"
      },
      "id": "vo80wSrqqn5J",
      "execution_count": null,
      "outputs": []
    },
    {
      "cell_type": "code",
      "source": [],
      "metadata": {
        "id": "DCAYsryLqn2W"
      },
      "id": "DCAYsryLqn2W",
      "execution_count": null,
      "outputs": []
    },
    {
      "cell_type": "code",
      "source": [],
      "metadata": {
        "id": "TVbOj_DSqnwS"
      },
      "id": "TVbOj_DSqnwS",
      "execution_count": null,
      "outputs": []
    },
    {
      "cell_type": "code",
      "source": [],
      "metadata": {
        "id": "FpD0H_oHqzEI"
      },
      "id": "FpD0H_oHqzEI",
      "execution_count": null,
      "outputs": []
    }
  ],
  "metadata": {
    "kernelspec": {
      "display_name": "Python 3",
      "language": "python",
      "name": "python3"
    },
    "language_info": {
      "codemirror_mode": {
        "name": "ipython",
        "version": 3
      },
      "file_extension": ".py",
      "mimetype": "text/x-python",
      "name": "python",
      "nbconvert_exporter": "python",
      "pygments_lexer": "ipython3",
      "version": "3.9.10"
    },
    "colab": {
      "provenance": []
    }
  },
  "nbformat": 4,
  "nbformat_minor": 5
}