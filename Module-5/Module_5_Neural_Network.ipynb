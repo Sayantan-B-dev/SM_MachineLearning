{
  "nbformat": 4,
  "nbformat_minor": 0,
  "metadata": {
    "colab": {
      "provenance": []
    },
    "kernelspec": {
      "name": "python3",
      "display_name": "Python 3"
    },
    "language_info": {
      "name": "python"
    }
  },
  "cells": [
    {
      "cell_type": "markdown",
      "source": [
        "## Simple Neural Network\n",
        "\n",
        "- Initialization: The code initializes weights randomly, sets up the input and output datasets, and defines the sigmoid activation function and its derivative.\n",
        "\n",
        "- Forward Propagation: The input data (a0) is passed through the first layer (with weights w0) using matrix multiplication and the sigmoid activation function. This gives the output of the first layer (a1). The same process is repeated for the second layer (with weights w1) to get the final output (a2).\n",
        "\n",
        "- Error Calculation: The difference between the predicted output (a2) and the actual output (y) is calculated as the error.\n",
        "\n",
        "- Back Propagation: The error is propagated back through the network to adjust the weights. The deltas (layer2_delta and layer1_delta) are calculated using the error and the derivative of the sigmoid function.\n",
        "\n",
        "- Weight Update: The weights (w1 and w0) are updated using the deltas and the outputs of the previous layers. This process is repeated for a specified number of iterations (epochs) to minimize the error.\n"
      ],
      "metadata": {
        "id": "lwYAon9r_qMn"
      }
    },
    {
      "cell_type": "code",
      "source": [
        "import numpy as np\n",
        "import pandas as pd"
      ],
      "metadata": {
        "id": "uvvCLEqxM-sb"
      },
      "execution_count": null,
      "outputs": []
    },
    {
      "cell_type": "code",
      "source": [
        "# Define the sigmoid activation function and its derivative function, to use later.\n",
        "def sigmoid(x):\n",
        "  return 1 / (1 + np.exp(-x))\n",
        "\n",
        "def sigmoid_derivative(x):\n",
        "  return x * (1 - x)"
      ],
      "metadata": {
        "id": "kMKCmGtAM_f8"
      },
      "execution_count": null,
      "outputs": []
    },
    {
      "cell_type": "code",
      "source": [
        "# Sample Input dataset\n",
        "X = np.array([[0,0,1],\n",
        "              [0,1,1],\n",
        "              [1,0,1],\n",
        "              [1,1,1]])\n",
        "\n",
        "# Sample Output dataset\n",
        "y = np.array([[0],\n",
        "              [1],\n",
        "              [1],\n",
        "              [0]])"
      ],
      "metadata": {
        "id": "vm7FrzPYNEJO"
      },
      "execution_count": null,
      "outputs": []
    },
    {
      "cell_type": "markdown",
      "source": [
        "### Prepare Network and Perform Training\n",
        "\n",
        "Network Structure:\n",
        "- 3 Input features.\n",
        "- Layer 1 has 4 Nodes.\n",
        "- Layer 2 (Output Layer) has 1 Node.\n"
      ],
      "metadata": {
        "id": "jhvOUnVdVQQw"
      }
    },
    {
      "cell_type": "code",
      "source": [
        "np.random.seed(1)\n",
        "\n",
        "# Initializing weights randomly, but keeping mean of weights as zero.\n",
        "w0 = 2 * np.random.random((3,4)) - 1\n",
        "w1 = 2 * np.random.random((4,1)) - 1"
      ],
      "metadata": {
        "id": "0z3ygW5xNKXi"
      },
      "execution_count": null,
      "outputs": []
    },
    {
      "cell_type": "code",
      "execution_count": null,
      "metadata": {
        "id": "2NIFk0P39J5w"
      },
      "outputs": [],
      "source": [
        "# To collect errors for plotting later\n",
        "errors = []\n",
        "\n",
        "\n",
        "# Iterate over 5000 epochs/times (epoch is the mainstream/official term for 1 iteration of forward+backprop)\n",
        "for i in range(5000):\n",
        "\n",
        "  # Forward propagation\n",
        "  #############################################\n",
        "  # Hint: Use numpy dot operation and above implemented sigmoid\n",
        "  #\n",
        "\n",
        "  a0 =\n",
        "  a1 =\n",
        "  a2 =\n",
        "\n",
        "  #\n",
        "  #############################################\n",
        "\n",
        "  # Calculate the error in model output(layer2)\n",
        "  #############################################\n",
        "  #\n",
        "\n",
        "  output_error =\n",
        "\n",
        "  #\n",
        "  #############################################\n",
        "\n",
        "\n",
        "  # Storing the error for every epoch\n",
        "  errors.append({\n",
        "    \"epochs\": i,\n",
        "    \"error\": np.mean(np.abs(output_error))\n",
        "  })\n",
        "  # Printing the error every 500 steps\n",
        "  if (i % 500) == 0:\n",
        "    print(\"Error after \"+str(i)+\" epochs:\" + str(np.mean(np.abs(output_error))))\n",
        "  # Back propagate the error\n",
        "  layer2_delta = output_error * sigmoid_derivative(a2)\n",
        "  layer1_error = layer2_delta.dot(w1.T)\n",
        "  layer1_delta = layer1_error * sigmoid_derivative(a1)\n",
        "\n",
        "\n",
        "  # Update weights using the layer delta\n",
        "  #############################################\n",
        "  # Hint: a^T * layer_delta\n",
        "  #\n",
        "\n",
        "  w1 -=\n",
        "  w0 -=\n",
        "\n",
        "  #\n",
        "  #############################################"
      ]
    },
    {
      "cell_type": "code",
      "source": [
        "# Plotting Graph of errors vs epochs\n",
        "\n",
        "pd.DataFrame(errors).plot(x='epochs', y='error')"
      ],
      "metadata": {
        "id": "N-hj2S-uRHN5"
      },
      "execution_count": null,
      "outputs": []
    },
    {
      "cell_type": "code",
      "source": [],
      "metadata": {
        "id": "7L9lE9YsadD-"
      },
      "execution_count": null,
      "outputs": []
    },
    {
      "cell_type": "markdown",
      "source": [
        "### Expected Graph\n",
        "\n",
        "![](https://drive.google.com/uc?export=view&id=1lGSQub9WKVQwGTSUldcnJJ_qwjKtGAy-)"
      ],
      "metadata": {
        "id": "T2U9ds-VXESy"
      }
    }
  ]
}